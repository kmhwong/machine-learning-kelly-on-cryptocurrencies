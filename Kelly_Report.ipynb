{
  "nbformat": 4,
  "nbformat_minor": 0,
  "metadata": {
    "colab": {
      "name": "Kelly_Report.ipynb",
      "provenance": []
    },
    "kernelspec": {
      "name": "python3",
      "display_name": "Python 3"
    },
    "language_info": {
      "name": "python"
    }
  },
  "cells": [
    {
      "cell_type": "markdown",
      "metadata": {
        "id": "SlwnZQtkWDyN"
      },
      "source": [
        "# **Kelly Strategy on Stocks and Cryptocurrency**"
      ]
    },
    {
      "cell_type": "markdown",
      "metadata": {
        "id": "Tj52TpyH2tnH"
      },
      "source": [
        "> Students: Dicky Chandra, Khoi\n",
        "\n",
        "> Supervisors: Keith Wong, Raymond Tsang\n",
        "\n",
        "> Institution: Center for Financial Engineering, CUHK"
      ]
    },
    {
      "cell_type": "markdown",
      "metadata": {
        "id": "g0vzO8zW44wv"
      },
      "source": [
        "##Abstract"
      ]
    },
    {
      "cell_type": "markdown",
      "metadata": {
        "id": "zNcAsVLh1j1x"
      },
      "source": [
        "In this research project, we develop a trading algorithm that utilizes Kelly criterion and  machine learning tools, namely linear regression and LSTM. "
      ]
    },
    {
      "cell_type": "markdown",
      "metadata": {
        "id": "tNXVGfqOTCLq"
      },
      "source": [
        "#1.Introduction"
      ]
    },
    {
      "cell_type": "markdown",
      "metadata": {
        "id": "fxrBbb4HpVqz"
      },
      "source": [
        "We divide the experiments into 2 phases. The first phase, we use daily data, which include top 10 biggest capitalization stocks from United States (S&P 500), Hong Kong (HSI) and Shanghai (SSE), and cryptocurrencies for our experiments. \n",
        "\n",
        "We choose these particular financial instruments because these instruments are considered to be the more liquid compared to other financial instruments\n",
        "\n",
        "We also assume risk-free rate to be 0% for simplification.\n",
        "\n",
        "In the second phase, we use a more frequent data which include cryptocurrencies data for our experiments.  \n",
        "\n",
        "\n"
      ]
    },
    {
      "cell_type": "markdown",
      "metadata": {
        "id": "F61xYsikC4ME"
      },
      "source": [
        "#2.Formulation"
      ]
    },
    {
      "cell_type": "markdown",
      "metadata": {
        "id": "aQfp4jKdKaIQ"
      },
      "source": [
        "##2.1. Normal Kelly Criterion\n",
        "\n",
        "Kelly criterion has been used as a fraction of bet to maximize the expected return in a betting game. With the assumption of equal probability of increase  and decrease in stock price, the kelly criterion is formulated as\n",
        "\n",
        "$$\n",
        "f^* = \\frac{\\mu - r_f}{\\sigma^2}\n",
        "$$\n",
        "\n",
        "where $\\mu$ is the average return, $r_f$ is the risk free rate, and the $\\sigma$ is the standard deviation of the return\n"
      ]
    },
    {
      "cell_type": "markdown",
      "metadata": {
        "id": "-4Yvm_aFKeFU"
      },
      "source": [
        "##2.2. Kelly with Custom Probability using Linear Regression and LSTM\n",
        "\n",
        "In the normal kelly criterion, we use equal probability between increase and decrease in stock price. \n",
        "\n",
        "We believe that the kelly criterion could provide better return if the different probability could provide better kelly criterion. \n",
        "\n",
        "Since the normal kelly fraction is derived from the following growth formula,\n",
        "\n",
        "$$\n",
        "g(f) = 0.5\\ln(1+r_f+f(\\mu-r_f+\\sigma) +0.5\\ln(1-r_f-f(\\mu-r_f-\\sigma))\n",
        "$$\n",
        "\n",
        "we will use the following customized probability for our experiments.\n",
        "\n",
        "$$\n",
        "\\max_f p\\ln(1+r_f+f(\\mu-r_f+\\sigma) +q\\ln(1-r_f-f(\\mu-r_f-\\sigma))\n",
        "$$\n",
        "\n",
        "where p is the probability the stock price increase, while q is the probability the stock price decrease. \n",
        "\n",
        "This maximization function is used to find the optimal $f$ that maximizes the growth function\n",
        "\n",
        "We use machine learning tools, namely linear regression and LSTM to generate the probability. We took the previous 36 days data and predict the next day's price. Then, we will calculate the confidence interval between the predicted price and today's price. \n",
        "\n",
        "If predicted price is much higher than today's price, then the probability produce by the confidence interval is the up probability. Otherwise, it is the down probability. \n"
      ]
    },
    {
      "cell_type": "markdown",
      "metadata": {
        "id": "wYzwKkjpKij-"
      },
      "source": [
        "##2.3. Kelly with discrete settings using Linear Regression and LSTM"
      ]
    },
    {
      "cell_type": "markdown",
      "metadata": {
        "id": "cMqpSYnog6_D"
      },
      "source": [
        "In the normal kelly criterion, we use continuous approximation for the final formulation. We would like to examine the discrete setting of the custom probability. \n",
        "\n",
        "In this formulation, we also use the assumption of equal probability between the price increase and the price decrease. \n",
        "\n",
        "The kelly criterion is formulated as follow\n",
        "$$\n",
        "f = \\frac{1}{2}(\\frac{1}{a} - \\frac{1}{b})\n",
        "$$\n",
        "where $a$ is the expected loss and $b$ is the expected profit\n",
        "\n",
        "We use linear regression and LSTM to generate the predicted stock price. If the predicted stock price is much higher than current price, it will use the return as the expected return and use the largest loss in the historical data as the expected loss. Otherwise, it will use the loss  as the expected loss and teh largest profit in the historical data as the expected profit. "
      ]
    },
    {
      "cell_type": "markdown",
      "metadata": {
        "id": "rGUnzWmKt1Ut"
      },
      "source": [
        "#3.Phase 1 Experiments"
      ]
    },
    {
      "cell_type": "markdown",
      "metadata": {
        "id": "U2egJW5zC8E5"
      },
      "source": [
        "##3.1. Cumulative Return\n",
        "\n"
      ]
    },
    {
      "cell_type": "markdown",
      "metadata": {
        "id": "LnRt54I7ew99"
      },
      "source": [
        "Financial Instrument| Buy and Hold |  Normal Kelly | Custom Kelly (L/R) | Custom Kelly (LSTM) | Discrete Kelly (L/R) | Discrete Kelly (LSTM)| \n",
        "--- | --- | --- | --- | --- | --- | --- |\n",
        "**S&P500** | \n",
        "AAPL | ${15.9\\%}$ | ${0.6\\%}$ | ${0.1\\%}$ | ${-3.6\\%}$ | ${-4.0\\%}$ | ${-20.8\\%}$ \n",
        "FB |   ${126.6\\%}$ | ${42.1\\%}$ | ${4.9\\%}$ | ${-2.2\\%}$ | ${74.6\\%}$  | ${31.2\\%}$ \n",
        "TSLA |  ${710.6\\%}$ | ${621.6\\%}$ | ${16.4\\%}$ | ${20.9\\%}$ | ${30.1\\%}$ | ${8.7\\%}$  \n",
        "GOOGL |   ${81.1\\%}$ | ${64.5\\%}$ | ${9.8\\%}$ | ${-0.5\\%}$ | ${28.7\\%}$ | ${7.0\\%}$  \n",
        "BRK-B |   ${40.2\\%}$ | ${8.0\\%}$ | ${1.2\\%}$ | ${-6.3\\%}$ | ${14.2\\%}$ | ${5.9\\%}$ \n",
        "JPM |   ${42.5\\%}$ | ${20.8\\%}$ | ${4.4\\%}$ | ${67.5\\%}$ | ${46.9\\%}$ | ${46.7\\%}$ \n",
        "JNJ |   ${30.9\\%}$ | ${-6.4\\%}$ | ${-0.1\\%}$ | ${17.5\\%}$ | ${30.6\\%}$ | ${20.8\\%}$  \n",
        "SPY |   ${46.0\\%}$ | ${40.0\\%}$ | ${4.5\\%}$ | ${0.1\\%}$ | ${5.3\\%}$ | ${-1.6\\%}$ \n",
        "**HSI** | \n",
        "Tencent (0700) |  ${46.1\\%}$ | ${44.4\\%}$ | ${4.8\\%}$ | ${-0.5\\%}$ | ${23.9\\%}$ | ${0\\%}$\n",
        "ICBC (1398) |   ${-11.2\\%}$ | ${-18.8\\%}$ | ${-3.5\\%}$  | ${-2.2\\%}$ | ${19.6\\%}$ | ${0\\%}$\n",
        "CISCO (4333) |   ${-42.7\\%}$ | ${-38.7\\%}$ | ${0\\%}$ | ${8.0\\%}$ | ${0\\%}$ | ${2.5\\%}$ \n",
        "CMB (3968) |   ${74.6\\%}$ | ${31.6\\%}$ | ${11.4\\%}$ | ${-2.6\\%}$ | ${34.5\\%}$ | ${0\\%}$\n",
        "CCB (939) |   ${-4.2\\%}$ | ${-29.9\\%}$ | ${6.9\\%}$ | ${-1.9\\%}$ | ${29.9\\%}$ | ${0\\%}$\n",
        "Ping An (2318) |   ${-10.9\\%}$ | ${-15.2\\%}$ | ${1.1\\%}$ | ${-1.3\\%}$ | ${1.6\\%}$ | ${0\\%}$\n",
        "ABC (1288) |   ${-1.9\\%}$ | ${-36.4\\%}$ | ${13.8\\%}$ | ${-2.8\\%}$ | ${12.4\\%}$ | ${0\\%}$\n",
        "AIA (1299) | ${26.5\\%}$ | ${-36.4\\%}$ | ${11.0\\%}$ | ${-0.7\\%}$ | ${64.9\\%}$ | ${0.0\\%}$\n",
        "PetroChina (0857) |   ${-10.3\\%}$ | ${-19.6\\%}$ | ${9.1\\%}$ | ${-0.5\\%}$ | ${-1.8\\%}$ | ${0\\%}$\n",
        "Bank of China (3988) | ${-2.2\\%}$ | ${-21.5\\%}$ | ${9.1\\%}$ | ${-1.3\\%}$ | ${19.5\\%}$  | ${0\\%}$\n",
        "**Shanghai Stock Exchange**|\n",
        "Kweichow Moutai| ${172.3\\%}$ | ${127.3\\%}$ | ${0.4\\%}$ | ${16.8\\%}$ | ${38.4\\%}$ | ${29.8\\%}$\n",
        "Industrial and Commercial Bank of China| ${-8.7\\%}$ | ${-15.9\\%}$ | ${-1.2\\%}$ | ${1.7\\%}$ | ${22.6\\%}$ | ${-23.4\\%}$ | ${21.0\\%}$\n",
        "China Merchants Banks| ${75.1\\%}$ | ${16.7\\%}$ | ${8.6\\%}$ | ${9.2\\%}$ | ${57.5\\%}$ | ${27.2\\%}$\n",
        "China Construction Bank| ${-7.4\\%}$ | ${-17.7\\%}$ | ${3.8\\%}$ | ${9.3\\%}$ | ${-8.8\\%}$ | ${15.8\\%}$\n",
        "Ping An Insurance| ${-7.7\\%}$ | ${-18.8\\%}$ | ${-0.5\\%}$ | ${2.7\\%}$ | ${-20.4\\%}$ | ${7.1\\%}$\n",
        "Petrochina| ${-40.6\\%}$ | ${-7.1\\%}$ | ${0\\%}$ | ${-27.0\\%}$ | ${-27.2\\%}$ | ${-23.4\\%}$\n",
        "China Life Insurance| ${45.0\\%}$ | ${45.5\\%}$ | ${-0.5\\%}$ | ${37.2\\%}$ | ${27.0\\%}$ | ${58.5\\%}$\n",
        "**Cryptocurrency** |   | \n",
        "USD-BTC |   ${327.1\\%}$ | ${463.6\\%}$ | ${20.6\\%}$ | ${79.8\\%}$ | ${12.1\\%}$ | ${32.2\\%}$ \n",
        "USD-ETH |   ${1449.5\\%}$ | ${1146.0\\%}$ | ${432.1\\%}$ | ${253.3\\%}$ | ${155.7\\%}$ | ${333.8\\%}$ \n",
        "USD-DOGE |   ${13543.9\\%}$ | ${10860.4\\%}$ | ${1074.6\\%}$ | ${357.3\\%}$ | ${139.2\\%}$ | ${655.9\\%}$ \n",
        "USD-XRP |   ${303.2\\%}$ | ${792.1\\%}$ | ${105.1\\%}$ | ${64.9\\%}$ | ${30.3\\%}$ | ${64.9\\%}$ \n",
        "USD-LTC |   ${231.6\\%}$ | ${264.4\\%}$ | ${93.0\\%}$ | ${312.0\\%}$ | ${39.3\\%}$ | ${90.0\\%}$ \n",
        "USD-BCH | ${175.1\\%}$ | ${113.9\\%}$ | ${38.2\\%}$ | ${7.5\\%}$ | ${36.6\\%}$ | ${283.1\\%}$ \n",
        "USD-ADA |   ${1797.9\\%}$ | ${778.7\\%}$ | ${365.5\\%}$ | ${100.1\\%}$ | ${183.5\\%}$ | ${203.1\\%}$ \n",
        "USD-BNB |   ${1799.1\\%}$ | ${1607.2\\%}$ | ${278.6\\%}$ | ${27.5\\%}$ | ${8.3\\%}$ | ${2.4\\%}$ \n"
      ]
    },
    {
      "cell_type": "markdown",
      "metadata": {
        "id": "c0dAEUwFOsyi"
      },
      "source": [
        "##3.2. Annual Volatility\n"
      ]
    },
    {
      "cell_type": "markdown",
      "metadata": {
        "id": "xPGm9cPa7n50"
      },
      "source": [
        "Financial Instrument| Buy and Hold |  Normal Kelly | Custom Kelly (L/R) | Custom Kelly (LSTM) | Discrete Kelly (L/R) | Discrete Kelly (LSTM)| \n",
        "--- | --- | --- | --- | --- | --- | --- |\n",
        "**S&P500** | \n",
        "AAPL | ${35.3\\%}$ | ${28.7\\%}$ | ${0.8\\%}$ | ${24.1\\%}$ | ${23.3\\%}$ | ${23.9\\%}$\n",
        "FB |   ${37.6\\%}$ | ${25.9\\%}$ | ${3.5\\%}$ | ${19.8\\%}$ | ${27.5\\%}$ | ${31.2\\%}$\n",
        "TSLA |  ${71.1\\%}$ | ${53.4\\%}$ | ${3.8\\%}$ | ${30.2\\%}$ | ${45.0\\%}$ | ${30.6\\%}$\n",
        "GOOGL |   ${81.1\\%}$ | ${21.5\\%}$ | ${9.1\\%}$ | ${10.8\\%}$ | ${23.4\\%}$ | ${12.9\\%}$\n",
        "BRK-B |   ${25.4\\%}$ | ${14.3\\%}$ | ${2.9\\%}$ | ${16.9\\%}$ | ${21.0\\%}$ | ${23.6\\%}$\n",
        "JPM |   ${36.6\\%}$ | ${20.3\\%}$ | ${5.2\\%}$ | ${28.9\\%}$ | ${30.4\\%}$ | ${20.3\\%}$\n",
        "JNJ |   ${23.5\\%}$ | ${13.8\\%}$ | ${0.5\\%}$ | ${13.0\\%}$ | ${18.7\\%}$ | ${13.8\\%}$\n",
        "SPY |   ${23.4\\%}$ | ${12.1\\%}$ | ${2.5\\%}$ | ${0.2\\%}$ | ${20.3\\%}$ | ${12.1\\%}$\n",
        "**HSI** | \n",
        "Tencent (0700) |  ${40.1\\%}$ | ${25.9\\%}$ | ${10.6\\%}$ | ${0.6\\%}$ | ${20.3\\%}$ | ${Nan}$\n",
        "ICBC (1398) |   ${26.6\\%}$ | ${15.7\\%}$ | ${6.0\\%}$  | ${0.5\\%}$ | ${21.4\\%}$ | ${Nan}$\n",
        "CISCO (4333) |   ${73.7\\%}$ | ${53.7\\%}$ | ${0\\%}$ | ${7.6\\%}$ | ${0.0\\%}$ | ${1.8\\%}$\n",
        "CMB (3968) |   ${39.1\\%}$ | ${25.8\\%}$ | ${6.6\\%}$ | ${0.6\\%}$ | ${25.2\\%}$ | ${Nan}$\n",
        "CCB (939) |   ${24.8\\%}$ | ${14.2\\%}$ | ${10.0\\%}$ | ${0.5\\%}$ | ${19.3\\%}$ | ${Nan}$\n",
        "Ping An (2318) |   ${22.8\\%}$ | ${15.7\\%}$ | ${3.1\\%}$ | ${0.4\\%}$ | ${16.8\\%}$ | ${Nan}$\n",
        "ABC (1288) |   ${28.3\\%}$ | ${15.3\\%}$ | ${12.5\\%}$ | ${0.7\\%}$ |${23.2\\%}$ | ${Nan}$\n",
        "AIA (1299) | ${36.4\\%}$ | ${15.3\\%}$ | ${7.8\\%}$ | ${0.8\\%}$ | ${25.7\\%}$ | ${Nan}$\n",
        "PetroChina (0857) |   ${41.2\\%}$ | ${21.1\\%}$ | ${14.9\\%}$ | ${1.0\\%}$ | ${35.6\\%}$ | ${Nan}$\n",
        "Bank of China (3988) | ${$22.7\\%}$ | ${13.8\\%}$ | ${6.1\\%}$ | ${0.5\\%}$ | ${19.2\\%}$ | ${Nan}$\n",
        "**Shanghai Stock Exchange**|\n",
        "Kweichow Moutai| ${32.1\\%}$ | ${24.3\\%}$ | ${0.8\\%}$ | ${15.8\\%}$ | ${24.7\\%}$ | ${16.3\\%}$\n",
        "Industrial and Commercial Bank of China| ${17.1\\%}$ | ${13.8\\%}$ | ${4.8\\%}$ | ${1.6\\%}$ | ${22.6\\%}$ | ${5.7\\%}$\n",
        "China Merchants Banks| ${29.2\\%}$ | ${23.4\\%}$ | ${8.2\\%}$ | ${6.7\\%}$ | ${20.0\\%}$ | ${8.5\\%}$\n",
        "China Construction Bank| ${21.4\\%}$ | ${16.9\\%}$ | ${6.1\\%}$ | ${5.1\\%}$ | ${12.5\\%}$ | ${7.8\\%}$\n",
        "Ping An Insurance| ${27.1\\%}$ | ${20.2\\%}$ | ${4.6\\%}$ | ${1.4\\%}$ | ${18.1\\%}$ | ${3.3\\%}$\n",
        "Petrochina| ${19.6\\%}$ | ${14.8\\%}$ | ${0\\%}$ | ${17.5\\%}$ |  ${16.4\\%}$ | ${17.6\\%}$\n",
        "China Life Insurance| ${40.5\\%}$ | ${32.5\\%}$ | ${10.0\\%}$ | ${20.4\\%}$ | ${23.6\\%}$ | ${21.4\\%}$ | \n",
        "**Cryptocurrency** |   | \n",
        "USD-BTC |   ${66.3\\%}$ | ${46.3\\%}$ | ${13.4\\%}$ | ${36.7\\%}$ | ${47.5\\%}$ | ${37.1\\%}$\n",
        "USD-ETH |   ${89.8\\%}$ | ${71.1\\%}$ | ${50.0\\%}$ |  ${62.8\\%}$ | ${60.6\\%}$ | ${59.0\\%}$\n",
        "USD-DOGE |   ${261.1\\%}$ | ${251.2\\%}$ | ${211.4\\%}$ | ${65.1\\%}$ | ${67.6\\%}$ | ${78.3\\%}$\n",
        "USD-XRP |   ${124.7\\%}$ | ${100.5\\%}$ | ${43.9\\%}$ | ${118.5\\%}$  | ${85.3\\%}$ | ${82.2\\%}$\n",
        "USD-LTC |   ${94.2\\%}$ | ${72.5\\%}$ | ${44.6\\%}$ | ${67.8\\%}$ | ${67.7\\%}$ | ${67.1\\%}$\n",
        "USD-BCH | ${110.8\\%}$ | ${91.4\\%}$ | ${39.6\\%}$ |  ${5.2\\%}$ | ${71.1\\%}$ | ${68.0\\%}$\n",
        "USD-ADA |   ${112.4\\%}$ | ${98.2\\%}$ | ${65.5\\%}$ | ${52.3\\%}$ | ${60.4\\%}$ | ${43.4\\%}$\n",
        "USD-BNB |   ${119.7\\%}$ | ${106.5\\%}$ | ${85.0\\%}$ |  ${2.2\\%}$ | ${55.8\\%}$ | ${2.4\\%}$\n"
      ]
    },
    {
      "cell_type": "code",
      "metadata": {
        "id": "Q755Iu5LDhHZ"
      },
      "source": [
        ""
      ],
      "execution_count": null,
      "outputs": []
    },
    {
      "cell_type": "markdown",
      "metadata": {
        "id": "q8TQaS0ASw-f"
      },
      "source": [
        "##3.3. Sharpe Ratio\n",
        "\n",
        "\n"
      ]
    },
    {
      "cell_type": "markdown",
      "metadata": {
        "id": "CD0Izqk5duMi"
      },
      "source": [
        "Financial Instrument| Buy and Hold |  Normal Kelly | Custom Kelly (L/R) | Custom Kelly (LSTM) | Discrete Kelly (L/R) | Discrete Kelly (LSTM)| \n",
        "--- | --- | --- | --- | --- | --- | --- |\n",
        "**S&P500** | \n",
        "AAPL | ${0.72}$ | ${0.17}$ | ${0.12}$ | ${0.09}$ | ${-0.11}$ | ${-0.2}$ \n",
        "FB |   ${1.07}$ | ${0.68}$ | ${0.57}$ | ${0.08}$ | ${0.96}$  | ${0.57}$ \n",
        "TSLA |  ${1.42}$ | ${1.61}$ | ${1.46}$ | ${0.38}$ | ${0.43}$ | ${0.24}$  \n",
        "GOOGL |   ${0.84}$ | ${0.95}$ | ${0.42}$ | ${0.05}$ | ${0.51}$ | ${0.24}$  \n",
        "BRK-B |   ${0.61}$ | ${0.27}$ | ${-0.05}$ | ${0.12}$ | ${0.33}$ | ${0.19}$ \n",
        "JPM |   ${0.53}$ | ${0.44}$ | ${0.32}$ | ${0.71}$ | ${0.61}$ | ${0.56}$ \n",
        "JNJ |   ${0.53}$ | ${-0.1}$ | ${-0.08}$ | ${0.48}$ | ${0.61}$ | ${0.53}$  \n",
        "SPY |   ${0.7}$ | ${1.07}$ | ${0.65}$ | ${0.12}$ | ${0.19}$ | ${0.06}$ \n",
        "**HSI** | \n",
        "Tencent (0700) |  ${0.96}$ | ${0.64}$ | ${0.41}$ | ${-0.29}$ | ${0.86}$ | ${Nan}$\n",
        "ICBC (1398) |   ${-0.23}$ | ${-0.4}$ | ${-0.46}$  | ${-1.55}$ | ${0.78}$ | ${Nan}$\n",
        "CISCO (4333) |   ${-0.1}$ | ${0.01}$ | ${NaN}$ | ${0.38}$ | ${NaN}$ | ${0.29}$ \n",
        "CMB (3968) |   ${1.35}$ | ${0.51}$ | ${1.35}$ | ${-1.53}$ | ${1.08}$ | ${Nan}$\n",
        "CCB (939) |   ${-0.02}$ | ${-0.83}$ | ${0.59}$ | ${-1.32}$ | ${1.19}$ | ${Nan}$\n",
        "Ping An (2318) |   ${-0.3}$ | ${-0.3}$ | ${0.3}$ | ${-0.32}$ | ${0.16}$ | ${Nan}$\n",
        "ABC (1288) |   ${0.08}$ | ${-1.0}$ | ${0.9}$ | ${-1.4}$ | ${0.52}$ | ${Nan}$\n",
        "AIA (1299) | ${0.7}$ | ${-1.29}$ | ${1.11}$ | ${-0.32}$ | ${1.7}$ | ${Nan}$\n",
        "PetroChina (0857) |   ${-0.01}$ | ${-0.27}$ | ${0.54}$ | ${-0.16}$ | ${0.13}$ | ${Nan}$\n",
        "Bank of China (3988) | ${0.03}$ | ${-0.57}$ | ${1.2}$ | ${-0.93}$ | ${0.84}$  | ${Nan }$\n",
        "**Shanghai Stock Exchange**|\n",
        "Kweichow Moutai| ${1.24}$ | ${1.29}$ | ${0.19}$ | ${0.45}$ | ${0.58}$ | ${0.63}$\n",
        "Industrial and Commercial Bank of China| ${-0.11}$ | ${-0.4}$ | ${-0.07}$ | ${0.38}$ | ${0.78}$ | ${0.72}$ | ${1.19}$\n",
        "China Merchants Banks| ${0.85}$ | ${0.36}$ | ${0.41}$ | ${0.49}$ | ${0.94}$ | ${0.64}$\n",
        "China Construction Bank| ${-0.02}$ | ${-0.34}$ | ${0.26}$ | ${0.63}$ | ${-0.21}$ | ${1.1}$\n",
        "Ping An Insurance| ${0.03}$ | ${-0.28}$ | ${-0.02}$ | ${0.69}$ | ${-0.38}$ | ${0.73}$\n",
        "Petrochina| ${-0.89}$ | ${-0.11}$ | ${NaN}$ | ${-0.53}$ | ${-0.63}$ | ${-0.44}$\n",
        "China Life Insurance| ${0.54}$ | ${0.59}$ | ${0.03}$ | ${0.64}$ | ${0.49}$ | ${0.85}$\n",
        "**Cryptocurrency** |   | \n",
        "USD-BTC |   ${1.48}$ | ${2.16}$ | ${0.79}$ | ${0.61}$ | ${0.39}$ | ${0.56}$ \n",
        "USD-ETH |   ${2.05}$ | ${2.19}$ | ${1.98}$ | ${1.69}$ | ${1.13}$ | ${1.46}$ \n",
        "USD-DOGE |   ${1.72}$ | ${1.65}$ | ${1.13}$ | ${1.36}$ | ${0.95}$ | ${1.52}$ \n",
        "USD-XRP |   ${1.18}$ | ${1.58}$ | ${1.06}$ | ${1.17}$ | ${1.58}$ | ${0.66}$ \n",
        "USD-LTC |   ${1.15}$ | ${1.29}$ | ${0.99}$ | ${1.07}$ | ${0.62}$ | ${0.79}$ \n",
        "USD-BCH | ${1.17}$ | ${1.08}$ | ${0.77}$ | ${2.74}$ | ${0.67}$ | ${1.52}$ \n",
        "USD-ADA |   ${2.49}$ | ${2.11}$ | ${2.05}$ | ${1.54}$ | ${1.57}$ | ${1.81}$ \n",
        "USD-BNB |   ${2.26}$ | ${2.33}$ | ${1.46}$ | ${1.31}$ | ${0.39}$ | ${0.77}$ \n"
      ]
    },
    {
      "cell_type": "markdown",
      "metadata": {
        "id": "uu1F3NVchRaB"
      },
      "source": [
        "##3.4 Analysis\n"
      ]
    },
    {
      "cell_type": "markdown",
      "metadata": {
        "id": "IDd5LmmppZcP"
      },
      "source": [
        "From the experiment results above, we could see that :\n",
        "\n",
        "* Buy and Hold strategy has the highest volatility among all other strategy as it holds the strategy for the whole period of time\n",
        "* It can be seen that kelly in discrete settings with both L/R and LSTM predicted price have relatively more stable sharpe ratio (bigger than 0) compared to other strategies \n",
        "* Kelly in custom probability with L/R predicted price has relatively the lowest risk (annual volatility) among other strategies"
      ]
    },
    {
      "cell_type": "markdown",
      "metadata": {
        "id": "J5wxE23DBCmx"
      },
      "source": [
        "#4.Phase 2 Experiments"
      ]
    },
    {
      "cell_type": "markdown",
      "metadata": {
        "id": "zFg4jZAdKMQh"
      },
      "source": [
        "##4.1. Cumulative Return\n"
      ]
    },
    {
      "cell_type": "markdown",
      "metadata": {
        "id": "Y-xZu6DLBomm"
      },
      "source": [
        "Financial Instrument| Buy and Hold |  Normal Kelly | Custom Kelly (L/R) | Custom Kelly (LSTM) | Discrete Kelly (L/R) | Discrete Kelly (LSTM)| \n",
        "--- | --- | --- | --- | --- | --- | --- |\n",
        "**2 Weeks data** |   \n",
        "USD-YFI |   ${-4.0\\%}$ | ${43.3\\%}$ | ${-1.4\\%}$ | ${-6.1\\%}$ | ${-19.1\\%}$ | ${-11.1\\%}$\n",
        "USD-UNI |   ${-8.9\\%}$ | ${52.2\\%}$ | ${-8.3\\%}$ | ${-8.6\\%}$ | ${-28.7\\%}$ | ${-9.0\\%}$\n",
        "USD-LINK |   ${-7.5\\%}$ | ${34.5\\%}$  | ${-6.2\\%}$ | ${-2.5\\%}$ | ${-7.7\\%}$ | ${-6.4\\%}$\n",
        "USD-ADA |   ${-4.3\\%}$ | ${58.2\\%}$  | ${-4.4\\%}$| ${11.6\\%}$ | ${-11.5\\%}$ | ${-2.4\\%}$\n",
        "USD-DOT |   ${-9.4\\%}$ | ${106.3\\%}$ | ${-10.1\\%}$ |${6.9\\%}$ | ${-19.4\\%}$ | ${-11.1\\%}$\n",
        "USD-DOG | ${-3.3\\%}$ | ${-69.7\\%}$ | ${-7.9\\%}$ | ${14.9\\%}$ | ${218.2\\%}$ | ${272.5\\%}$ \n",
        "USD-UST |   ${0.0\\%}$ | ${-1.6\\%}$ | ${0.0\\%}$ | ${-0.4\\%}$ | ${0.1\\%}$ | ${0.2\\%}$ \n",
        "USD-LTC |   ${-5.7\\%}$ | ${10.8\\%}$ | ${-4.2\\%}$ | ${-2.4\\%}$ | ${-5.1\\%}$ | ${-6.4\\%}$ \n",
        "USD-ETH |   ${-3.6\\%}$ | ${6.9\\%}$ | ${-0.5\\%}$ | ${0.0\\%}$ | ${0.2\\%}$ | ${0.0\\%}$ \n",
        "USD-BTC |   ${-2.1\\%}$ | ${33.1\\%}$ | ${-2\\%}$ | ${0.0\\%}$ | ${-3.9\\%}$ | ${0.0\\%}$ \n",
        "**1 Month data** |   \n",
        "USD-YFI |   ${-3.5\\%}$ | ${103.3\\%}$ | ${-1.4\\%}$ | ${-0.5\\%}$ | ${-9.8\\%}$ | ${-3.8\\%}$\n",
        "USD-UNI |   ${-10.0\\%}$ |  ${87\\%}$ | ${-8.3\\%}$ | ${15.02\\%}$ | ${-19.1\\%}$ | ${0.5\\%}$\n",
        "USD-LINK |   ${-8.3\\%}$ |  ${95.8\\%}$ | ${-6.2\\%}$ | ${3.2\\%}$ | ${-9.6\\%}$ | ${-7.3\\%}$\n",
        "USD-ADA |   ${-5.8\\%}$ |  ${112.6\\%}$ | ${-5.6\\%}$ | ${12.6\\%}$ | ${-9.6\\%}$ | ${-4.2\\%}$\n",
        "USD-DOT |   ${-10.9\\%}$ | ${95.7\\%}$ | ${-10.1\\%}$ | ${6.8\\%}$  | ${-18.1\\%}$ | ${-2.5\\%}$\n",
        "USD-DOG | ${-4.1\\%}$ | ${-69.7\\%}$ |  ${-10.1\\%}$ | ${51.7\\%}$ | ${-18.1\\%}$ | ${82.6\\%}$\n",
        "USD-UST |   ${0.1\\%}$ | ${0.0\\%}$ | ${-5.9\\%}$ | ${0.1\\%}$ | ${-0.2\\%}$ | ${0.2\\%}$\n",
        "BTC-LTC |   ${-3.5\\%}$ | ${95.7\\%}$ | ${-4.2\\%}$ | ${3.9\\%}$ | ${-6.2\\%}$ | ${-3.2\\%}$\n",
        "USD-ETH |   ${-4.1\\%}$ | ${5.6\\%}$ | ${-0.5\\%}$ | ${0.0\\%}$ | ${-1.9\\%}$ | ${0.0\\%}$\n",
        "USD-BTC |   ${-2.8\\%}$ | ${33.0\\%}$ | ${-2.0\\%}$ | ${0.0\\%}$ | ${-2.0\\%}$ | ${0.0\\%}$"
      ]
    },
    {
      "cell_type": "markdown",
      "metadata": {
        "id": "pQYIC-z1_FBy"
      },
      "source": [
        "##4.2. Annual Volatility\n"
      ]
    },
    {
      "cell_type": "markdown",
      "metadata": {
        "id": "BDHNymv4_Lpa"
      },
      "source": [
        "Financial Instrument| Buy and Hold |  Normal Kelly | Custom Kelly (L/R) | Custom Kelly (LSTM) | Discrete Kelly (L/R) | Discrete Kelly (LSTM)| \n",
        "--- | --- | --- | --- | --- | --- | --- |\n",
        "**2 Weeks data** |   \n",
        "USD-YFI |   ${4.8\\%}$ | ${74.3\\%}$ |  ${8.3\\%}$ | ${14.2\\%}$ | ${21.7\\%}$ | ${Nan}$ \n",
        "USD-UNI |   ${17.1\\%}$ | ${89.3\\%}$ |  ${21.4\\%}$| ${14.2\\%}$ | ${79.7\\%}$ | ${21.6\\%}$ \n",
        "USD-LINK |   ${48.7\\%}$ | ${78.2\\%}$  | ${25.1\\%}$ | ${41.5\\%}$ | ${18.6\\%}$ | ${22.3\\%}$ \n",
        "USD-ADA |   ${62\\%}$ | ${87.1\\%}$  | ${25.1\\%}$| ${80.4\\%}$ | ${31.4\\%}$ | ${27.9\\%}$ \n",
        "USD-DOT |   ${54.1\\%}$ | ${99.7\\%}$ | ${28.1\\%}$ | ${48.6\\%}$ | ${54.5\\%}$ | ${35.6\\%}$ \n",
        "USD-DOG | ${14.3\\%}$ | ${280.8\\%}$ | ${28.1\\%}$ | ${38.9\\%}$ | ${333.1\\%}$ | ${412.8\\%}$ \n",
        "USD-UST |   ${0.3\\%}$ | ${2.6\\%}$ | ${0.1\\%}$ | ${1.9\\%}$ | ${0.3\\%}$ | ${0.5\\%}$ \n",
        "USD-LTC |   ${22.7\\%}$ | ${49.6\\%}$ | ${10.3\\%}$ | ${0.0\\%}$ | ${14.4\\%}$ | ${15.0\\%}$ \n",
        "USD-ETH |   ${28.6\\%}$ | ${60.1\\%}$ | ${10.2\\%}$ | ${Nan}$ | ${9.1\\%}$ | ${Nan}$ \n",
        "USD-BTC |   ${62.1\\%}$ | ${61.3\\%}$ | ${18.1\\%}$ | ${Nan}$ | ${Nan}$ | ${Nan}$ \n",
        "**1 Month data** |   \n",
        "USD-YFI |   ${22.6\\%}$ | ${120.9\\%}$ | ${8.3\\%}$ | ${20.9\\%}$ | ${21.7\\%}$ | ${8.7\\%}$ \n",
        "USD-UNI |   ${41.1\\%}$ |  ${114.3\\%}$ | ${21.4\\%}$ | ${Nan\\%}$ | ${35.9\\%}$ | ${Nan}$ \n",
        "USD-LINK |   ${59.9\\%}$ |  ${92.7\\%}$ | ${25.1\\%}$ | ${34.5\\%}$ | ${17.8\\%}$ | ${20.3\\%}$ \n",
        "USD-ADA |   ${73.1\\%}$ |  ${95.9\\%}$ | ${25.1\\%}$ | ${80.0\\%}$ | ${20.3\\%}$ | ${22.8\\%}$ \n",
        "USD-DOT |   ${72.2\\%}$ | ${110.2\\%}$ | ${28.1\\%}$ | ${22.9\\%}$ |${36.7\\%}$  | ${4.1\\%}$ \n",
        "USD-DOG | ${17.7\\%}$ | ${192.4\\%}$ |  ${28.1\\%}$ | ${14.1\\%}$ | ${36.7\\%}$ | ${116.0\\%}$  \n",
        "USD-UST |   ${0.2\\%}$ | ${192.4\\%}$ | ${0.1\\%}$ | ${0.6\\%}$ | ${14.1\\%}$  | ${0.4\\%}$ \n",
        "BTC-LTC |   ${84.6\\%}$ | ${51.2\\%}$ | ${10.3\\%}$ | ${Nan\\%}$ | ${21.3\\%}$ | ${22.0\\%}$ \n",
        "USD-ETH |   ${48.7\\%}$ | ${83.8\\%}$ | ${10.2\\%}$ | ${Nan\\%}$ | ${4.1\\%}$ | ${NaN}$ \n",
        "USD-BTC |   ${52\\%}$ | ${57.9\\%}$ | ${18.1\\%}$ | ${Nan\\%}$ | ${7.0\\%}$ | ${NaN}$ "
      ]
    },
    {
      "cell_type": "markdown",
      "metadata": {
        "id": "GfljbPwIqc69"
      },
      "source": [
        "##4.2. Analysis\n",
        "\n",
        "From the table above, we could conclude that \n",
        "\n",
        "* normal kelly performs better compared to other strategies\n",
        "* Normal Kelly also has the highest risk among other strategies"
      ]
    },
    {
      "cell_type": "markdown",
      "metadata": {
        "id": "fw7PV0zbx5pI"
      },
      "source": [
        "#5.References and appendix\n",
        "\n"
      ]
    },
    {
      "cell_type": "markdown",
      "metadata": {
        "id": "uJ0_Ahr3bf70"
      },
      "source": [
        "## Appendix for codes \n",
        "\n",
        "* Codes for Buy and Hold Strategy :\n",
        "report_bt_buy_and_hold.ipynb\n",
       
        "\n",
        "* Codes for Normal Kelly Strategy :\n",
        "https://colab.research.google.com/drive/1VgnCsFMgErATp4qVyL-7sRwbPIPcRTDd\n",
        "\n",
        "* Codes for Custom Kelly with Linear Regression Prediction :\n",
        "https://colab.research.google.com/drive/1lIxgjsA5Ev4YKuHKQbM5SrF-ygfyFZpQ\n",
        "\n",
        "* Codes for Custom Kelly with LSTM Prediction :\n",
        "https://colab.research.google.com/drive/1rsGH3jWXXm0Ka0sW7nS8ASLy6xmxjtiY\n",
        "\n",
        "* Codes for Discrete Setting Kelly with Linear Regression Prediction :\n",
        "https://colab.research.google.com/drive/1NkGgdkkvtcbwJzkQXuTpAdPcL0EMNLnK\n",
        "\n",
        "* Codes for Discrete Setting Kelly with LSTM Prediction :\n",
        "https://colab.research.google.com/drive/1nxdW6nVroPJVAPqs9yaWpWionMeuE0EL\n",
        "\n",
        "* LSTM Prediction Price Generator:\n",
        "https://colab.research.google.com/drive/16QqLvrAiGeT8PdFvEIMAWOrIi-2j-kOm\n"
      ]
    }
  ]
}
